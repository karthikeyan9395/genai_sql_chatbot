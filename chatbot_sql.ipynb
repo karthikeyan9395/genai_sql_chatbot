{
 "cells": [
  {
   "cell_type": "markdown",
   "metadata": {},
   "source": [
    "# Importing supporting libraries"
   ]
  },
  {
   "cell_type": "code",
   "execution_count": 1,
   "metadata": {},
   "outputs": [
    {
     "name": "stdout",
     "output_type": "stream",
     "text": [
      "CPU times: total: 3.61 s\n",
      "Wall time: 3.68 s\n"
     ]
    }
   ],
   "source": [
    "%%time\n",
    "from langchain_groq import ChatGroq\n",
    "from langchain.prompts import PromptTemplate\n",
    "from langchain.utilities import SQLDatabase\n",
    "from langchain_core.output_parsers import StrOutputParser\n",
    "from langchain_core.runnables import RunnablePassthrough\n",
    "from sqlalchemy import create_engine, text\n",
    "import os\n",
    "from dotenv import load_dotenv\n",
    "\n",
    "import pandas as pd\n",
    "import pprint"
   ]
  },
  {
   "cell_type": "markdown",
   "metadata": {},
   "source": [
    "# Connecting Local SQL Server"
   ]
  },
  {
   "cell_type": "code",
   "execution_count": 5,
   "metadata": {},
   "outputs": [
    {
     "name": "stdout",
     "output_type": "stream",
     "text": [
      "Connection successful!\n"
     ]
    }
   ],
   "source": [
    "engine = create_engine(\n",
    "        \"mssql+pyodbc://KARTHIK-ASUS\\\\SQLEXPRESS/AdventureWorks2022?\"\n",
    "        \"driver=ODBC+Driver+17+for+SQL+Server\"\n",
    "        \"&autocommit=true\"\n",
    "        \"&trusted_connection=yes\"\n",
    "        \"&echo=False\"\n",
    "        \"&fast_executemany=True\"\n",
    "    )\n",
    "\n",
    "# Check if the connection is successful\n",
    "if engine.connect():\n",
    "    print(\"Connection successful!\")\n",
    "else:\n",
    "    print(\"Connection failed.\")"
   ]
  },
  {
   "cell_type": "markdown",
   "metadata": {},
   "source": [
    "## Get database schema"
   ]
  },
  {
   "cell_type": "code",
   "execution_count": 16,
   "metadata": {},
   "outputs": [
    {
     "name": "stdout",
     "output_type": "stream",
     "text": [
      "[('Sales', 'Customer', 'CustomerID', 'int'), ('Sales', 'Customer', 'PersonID', 'int'), ('Sales', 'Customer', 'StoreID', 'int'), ('Sales', 'Customer', 'TerritoryID', 'int'), ('Sales', 'Customer', 'AccountNumber', 'varchar'), ('Sales', 'Customer', 'rowguid', 'uniqueidentifier'), ('Sales', 'Customer', 'ModifiedDate', 'datetime'), ('Sales', 'SalesOrderHeader', 'SalesOrderID', 'int'), ('Sales', 'SalesOrderHeader', 'RevisionNumber', 'tinyint'), ('Sales', 'SalesOrderHeader', 'OrderDate', 'datetime'), ('Sales', 'SalesOrderHeader', 'DueDate', 'datetime'), ('Sales', 'SalesOrderHeader', 'ShipDate', 'datetime'), ('Sales', 'SalesOrderHeader', 'Status', 'tinyint'), ('Sales', 'SalesOrderHeader', 'OnlineOrderFlag', 'Flag'), ('Sales', 'SalesOrderHeader', 'SalesOrderNumber', 'nvarchar'), ('Sales', 'SalesOrderHeader', 'PurchaseOrderNumber', 'OrderNumber'), ('Sales', 'SalesOrderHeader', 'AccountNumber', 'AccountNumber'), ('Sales', 'SalesOrderHeader', 'CustomerID', 'int'), ('Sales', 'SalesOrderHeader', 'SalesPersonID', 'int'), ('Sales', 'SalesOrderHeader', 'TerritoryID', 'int'), ('Sales', 'SalesOrderHeader', 'BillToAddressID', 'int'), ('Sales', 'SalesOrderHeader', 'ShipToAddressID', 'int'), ('Sales', 'SalesOrderHeader', 'ShipMethodID', 'int'), ('Sales', 'SalesOrderHeader', 'CreditCardID', 'int'), ('Sales', 'SalesOrderHeader', 'CreditCardApprovalCode', 'varchar'), ('Sales', 'SalesOrderHeader', 'CurrencyRateID', 'int'), ('Sales', 'SalesOrderHeader', 'SubTotal', 'money'), ('Sales', 'SalesOrderHeader', 'TaxAmt', 'money'), ('Sales', 'SalesOrderHeader', 'Freight', 'money'), ('Sales', 'SalesOrderHeader', 'TotalDue', 'money'), ('Sales', 'SalesOrderHeader', 'Comment', 'nvarchar'), ('Sales', 'SalesOrderHeader', 'rowguid', 'uniqueidentifier'), ('Sales', 'SalesOrderHeader', 'ModifiedDate', 'datetime')]\n"
     ]
    }
   ],
   "source": [
    "schema_query = \"\"\" SELECT \n",
    "    s.name AS schema_name,\n",
    "    t.name AS table_name,\n",
    "    c.name AS column_name,\n",
    "    ty.name AS data_type\n",
    "FROM sys.tables t\n",
    "INNER JOIN sys.columns c ON t.object_id = c.object_id\n",
    "INNER JOIN sys.types ty ON c.user_type_id = ty.user_type_id\n",
    "INNER JOIN sys.schemas s ON t.schema_id = s.schema_id\n",
    "WHERE t.name IN ('SalesOrderHeader', 'Customer')\n",
    "ORDER BY s.name, t.name, c.column_id; \"\"\"\n",
    "\n",
    "with engine.connect() as conn:\n",
    "    result = conn.execute(text(schema_query))  # Execute query\n",
    "    schema_info = result.fetchall()  # Fetch all rows\n",
    "\n",
    "print(schema_info)"
   ]
  },
  {
   "cell_type": "code",
   "execution_count": null,
   "metadata": {},
   "outputs": [
    {
     "name": "stdout",
     "output_type": "stream",
     "text": [
      "Database Schema:\n",
      "\n",
      "Schema: Sales\n",
      "Table: Customer\n",
      "- CustomerID (int)\n",
      "- PersonID (int)\n",
      "- StoreID (int)\n",
      "- TerritoryID (int)\n",
      "- AccountNumber (varchar)\n",
      "- rowguid (uniqueidentifier)\n",
      "- ModifiedDate (datetime)\n",
      "\n",
      "Schema: Sales\n",
      "Table: SalesOrderHeader\n",
      "- SalesOrderID (int)\n",
      "- RevisionNumber (tinyint)\n",
      "- OrderDate (datetime)\n",
      "- DueDate (datetime)\n",
      "- ShipDate (datetime)\n",
      "- Status (tinyint)\n",
      "- OnlineOrderFlag (Flag)\n",
      "- SalesOrderNumber (nvarchar)\n",
      "- PurchaseOrderNumber (OrderNumber)\n",
      "- AccountNumber (AccountNumber)\n",
      "- CustomerID (int)\n",
      "- SalesPersonID (int)\n",
      "- TerritoryID (int)\n",
      "- BillToAddressID (int)\n",
      "- ShipToAddressID (int)\n",
      "- ShipMethodID (int)\n",
      "- CreditCardID (int)\n",
      "- CreditCardApprovalCode (varchar)\n",
      "- CurrencyRateID (int)\n",
      "- SubTotal (money)\n",
      "- TaxAmt (money)\n",
      "- Freight (money)\n",
      "- TotalDue (money)\n",
      "- Comment (nvarchar)\n",
      "- rowguid (uniqueidentifier)\n",
      "- ModifiedDate (datetime)\n",
      "\n"
     ]
    }
   ],
   "source": [
    "def get_schema(table_list: list):\n",
    "       \n",
    "    # Query to get table and column information\n",
    "    table_name = ', '.join(f\"'{name}'\" for name in table_list)\n",
    "\n",
    "    schema_query = f\"\"\"\n",
    "        SELECT \n",
    "            s.name AS schema_name,\n",
    "            t.name AS table_name,\n",
    "            c.name AS column_name,\n",
    "            ty.name AS data_type\n",
    "        FROM sys.tables t\n",
    "        INNER JOIN sys.columns c ON t.object_id = c.object_id\n",
    "        INNER JOIN sys.types ty ON c.user_type_id = ty.user_type_id\n",
    "        INNER JOIN sys.schemas s ON t.schema_id = s.schema_id\n",
    "        where t.name in ({table_name})\n",
    "        ORDER BY s.name, t.name, c.column_id;\n",
    "    \"\"\"\n",
    "    \n",
    "    with engine.connect() as conn:\n",
    "        result = conn.execute(text(schema_query))  # Execute query\n",
    "        schema_info = result.fetchall()  # Fetch all rows\n",
    "    \n",
    "    # Format schema information\n",
    "    schema_text = \"Database Schema:\\n\"\n",
    "    current_table = \"\"\n",
    "    current_schema = \"\"\n",
    "    \n",
    "    for schema_name, table, column, data_type in schema_info:\n",
    "        if table != current_table:\n",
    "            schema_text += f\"\\nSchema: {schema_name}\"\n",
    "            schema_text += f\"\\nTable: {table}\\n\"\n",
    "            current_table = table\n",
    "            schema_name = current_schema\n",
    "        schema_text += f\"- {column} ({data_type})\\n\"\n",
    "    \n",
    "    conn.close()\n",
    "    \n",
    "    return schema_text\n",
    "\n",
    "schema_text = get_schema(table_list = ['SalesOrderHeader','Customer'])\n",
    "print(schema_text)"
   ]
  },
  {
   "cell_type": "markdown",
   "metadata": {},
   "source": [
    "# Connecting with GROQ API"
   ]
  },
  {
   "cell_type": "code",
   "execution_count": 3,
   "metadata": {},
   "outputs": [],
   "source": [
    "llm = ChatGroq(\n",
    "    groq_api_key = os.getenv('groq_api_key'),\n",
    "    model_name=\"mixtral-8x7b-32768\" , # You can also use \"llama2-70b-4096\"\n",
    ")"
   ]
  },
  {
   "cell_type": "markdown",
   "metadata": {},
   "source": [
    "# Create prompt template"
   ]
  },
  {
   "cell_type": "code",
   "execution_count": 32,
   "metadata": {},
   "outputs": [
    {
     "name": "stdout",
     "output_type": "stream",
     "text": [
      "\n",
      "You are a SQL expert. Based on the following database schema and natural language query,\n",
      "generate a SQL query that answers the question.\n",
      "\n",
      "Database Schema:\n",
      "\n",
      "Schema: Sales\n",
      "Table: Customer\n",
      "- CustomerID (int)\n",
      "- PersonID (int)\n",
      "- StoreID (int)\n",
      "- TerritoryID (int)\n",
      "- AccountNumber (varchar)\n",
      "- rowguid (uniqueidentifier)\n",
      "- ModifiedDate (datetime)\n",
      "\n",
      "Schema: Sales\n",
      "Table: SalesOrderHeader\n",
      "- SalesOrderID (int)\n",
      "- RevisionNumber (tinyint)\n",
      "- OrderDate (datetime)\n",
      "- DueDate (datetime)\n",
      "- ShipDate (datetime)\n",
      "- Status (tinyint)\n",
      "- OnlineOrderFlag (Flag)\n",
      "- SalesOrderNumber (nvarchar)\n",
      "- PurchaseOrderNumber (OrderNumber)\n",
      "- AccountNumber (AccountNumber)\n",
      "- CustomerID (int)\n",
      "- SalesPersonID (int)\n",
      "- TerritoryID (int)\n",
      "- BillToAddressID (int)\n",
      "- ShipToAddressID (int)\n",
      "- ShipMethodID (int)\n",
      "- CreditCardID (int)\n",
      "- CreditCardApprovalCode (varchar)\n",
      "- CurrencyRateID (int)\n",
      "- SubTotal (money)\n",
      "- TaxAmt (money)\n",
      "- Freight (money)\n",
      "- TotalDue (money)\n",
      "- Comment (nvarchar)\n",
      "- rowguid (uniqueidentifier)\n",
      "- ModifiedDate (datetime)\n",
      "\n",
      "\n",
      "Natural Language Query: How many customers have ordered between '2013-06-30' to '2014-06-30'? \n",
      "Give the results as 'count_of_customers' \n",
      "\n",
      "Generate only the SQL query without any explanation or additional text.\n",
      "The query should be compatible with Microsoft SQL Server. \n",
      "While generating the sql query give the table name with the schema name \n",
      "and give proper alias name in the final result.\n",
      "\n"
     ]
    }
   ],
   "source": [
    "user_query = \"\"\"How many customers have ordered between '2013-06-30' to '2014-06-30'? \n",
    "Give the results as 'count_of_customers' \"\"\"\n",
    "\n",
    "prompt = PromptTemplate.from_template(f\"\"\"\n",
    "You are a SQL expert. Based on the following database schema and natural language query,\n",
    "generate a SQL query that answers the question.\n",
    "\n",
    "{schema_text}\n",
    "\n",
    "Natural Language Query: {user_query}\n",
    "\n",
    "Generate only the SQL query without any explanation or additional text.\n",
    "The query should be compatible with Microsoft SQL Server. \n",
    "While generating the sql query give the table name with the schema name \n",
    "and give proper alias name in the final result.\n",
    "\"\"\")\n",
    "\n",
    "print(prompt.template)\n"
   ]
  },
  {
   "cell_type": "code",
   "execution_count": 27,
   "metadata": {},
   "outputs": [],
   "source": [
    "def process_natural_language_query(nl_query):\n",
    "    try:\n",
    "        # Get database schema\n",
    "        schema = get_schema(table_list = ['Employee'])\n",
    "        \n",
    "        # Generate SQL query using the new chain syntax\n",
    "        sql_query = chain.invoke({\n",
    "            \"schema\": schema,\n",
    "            \"query\": nl_query\n",
    "        })\n",
    "        \n",
    "        print(\"Generated SQL Query:\")\n",
    "        print(sql_query)\n",
    "        \n",
    "        # Execute the query\n",
    "        results = pd.read_sql(sql_query,con=engine)\n",
    "        \n",
    "        return {\n",
    "            \"sql_query\": sql_query,\n",
    "            \"results\": results\n",
    "        }\n",
    "        \n",
    "    except Exception as e:\n",
    "        import traceback\n",
    "        print(f\"Full error traceback:\\n{traceback.format_exc()}\")\n",
    "        return f\"Error processing query: {str(e)}\""
   ]
  },
  {
   "cell_type": "code",
   "execution_count": 34,
   "metadata": {},
   "outputs": [
    {
     "name": "stdout",
     "output_type": "stream",
     "text": [
      "Generated SQL Query:\n",
      "SELECT COUNT(DISTINCT c.CustomerID)\n",
      "FROM Sales.Customer c\n",
      "JOIN Sales.SalesOrderHeader soh ON c.CustomerID = soh.CustomerID\n",
      "WHERE soh.ShipDate BETWEEN '2013-06-30' AND '2014-06-30';\n",
      "\n",
      "Results:\n",
      "{'sql_query': \"SELECT COUNT(DISTINCT c.CustomerID)\\nFROM Sales.Customer c\\nJOIN Sales.SalesOrderHeader soh ON c.CustomerID = soh.CustomerID\\nWHERE soh.ShipDate BETWEEN '2013-06-30' AND '2014-06-30';\", 'results':         \n",
      "0  18051}\n"
     ]
    }
   ],
   "source": [
    "# Process the query\n",
    "result = process_natural_language_query(user_query)\n",
    "print(\"\\nResults:\")\n",
    "print(result)"
   ]
  },
  {
   "cell_type": "code",
   "execution_count": null,
   "metadata": {},
   "outputs": [],
   "source": []
  },
  {
   "cell_type": "code",
   "execution_count": null,
   "metadata": {},
   "outputs": [],
   "source": []
  }
 ],
 "metadata": {
  "kernelspec": {
   "display_name": "genai_env",
   "language": "python",
   "name": "python3"
  },
  "language_info": {
   "codemirror_mode": {
    "name": "ipython",
    "version": 3
   },
   "file_extension": ".py",
   "mimetype": "text/x-python",
   "name": "python",
   "nbconvert_exporter": "python",
   "pygments_lexer": "ipython3",
   "version": "3.12.9"
  }
 },
 "nbformat": 4,
 "nbformat_minor": 2
}
